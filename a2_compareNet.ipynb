{
 "cells": [
  {
   "cell_type": "markdown",
   "id": "34cea26d",
   "metadata": {},
   "source": [
    "the demonstration of how compareNet works."
   ]
  },
  {
   "cell_type": "markdown",
   "id": "9c554a93",
   "metadata": {},
   "source": [
    "import library"
   ]
  },
  {
   "cell_type": "code",
   "execution_count": null,
   "id": "28930e42",
   "metadata": {},
   "outputs": [],
   "source": [
    "import os, sys, json, torch\n",
    "import argparse, datetime, time\n",
    "import random, numpy as np\n",
    "from util import Utils\n",
    "from data_loader import DataLoader\n",
    "from trainer import Trainer\n",
    "from evaluator import Evaluator\n",
    "from timeit import default_timer as timer\n",
    "from print_log import Logger\n",
    "from tqdm import tqdm\n",
    "\n",
    "\n",
    "'''\n",
    "node_type:\n",
    "    '3 represents three types: Document&Entity&Topic; \\n'\n",
    "    '2 represents two types: Document&Entiy; \\n'\n",
    "    '1 represents two types: Document&Topic; \\n'\n",
    "    '0 represents only one type: Document. '\n",
    "'''\n",
    "# CUDA_VISIBLE_DEVICES_DICT = {0: '4',    1: '3',     2: '4',     3: '5'}\n",
    "# MEMORY_DICT =               {0: 4000,   1: 9500,    2: 7600,    3: 8000}\n"
   ]
  },
  {
   "cell_type": "code",
   "execution_count": null,
   "id": "7c02d7fd",
   "metadata": {},
   "outputs": [],
   "source": [
    "interface of the setting up of the running jobs. \n"
   ]
  },
  {
   "cell_type": "code",
   "execution_count": null,
   "id": "7e911150",
   "metadata": {},
   "outputs": [],
   "source": [
    "\n",
    "def parse_arguments():\n",
    "    parser = argparse.ArgumentParser(description='Argument parser for Fake News Detection')\n",
    "    # Data Related\n",
    "    # data_root_path = '/home/{}/GCN/FND/data/fakeNews/'.format(USERNAME)\n",
    "    data_root_path = './data/fakeNews/'\n",
    "    parser.add_argument(\"--root\", type=str, default=data_root_path)\n",
    "    parser.add_argument(\"--train\", type=str, default=data_root_path + 'fulltrain.csv')\n",
    "    parser.add_argument(\"--dev\", type=str, default=data_root_path + 'balancedtest.csv')\n",
    "    parser.add_argument(\"--test\", type=str, default=data_root_path + 'test.xlsx',\n",
    "                        help='Out of domain test set')\n",
    "    parser.add_argument(\"--pte\", type=str, default='', help='Pre-trained embeds')\n",
    "    parser.add_argument(\"--entity_desc\", type=str, help='entity description path.',\n",
    "                        default=data_root_path + 'entityDescCorpus.pkl')\n",
    "    parser.add_argument(\"--entity_tran\", type=str, help='entity transE embedding path.',\n",
    "                        default=data_root_path + 'entity_feature_transE.pkl')\n",
    "    parser.add_argument(\"--adjs\", type=str, default=data_root_path + 'adjs/')\n",
    "    # Hyper-parameters\n",
    "    parser.add_argument(\"--emb_dim\", type=int, default=100)\n",
    "    parser.add_argument(\"--hidden_dim\", type=int, default=100)\n",
    "    parser.add_argument(\"--node_emb_dim\", type=int, default=32)\n",
    "    parser.add_argument(\"--max_epochs\", type=int, default=15)\n",
    "    parser.add_argument(\"--max_sent_len\", type=int, default=50)\n",
    "    parser.add_argument(\"--max_sents_in_a_doc\", type=int, default=10000)\n",
    "    parser.add_argument(\"--batch_size\", type=int, default=32)\n",
    "    parser.add_argument(\"--lr\", type=float, default=1e-3)\n",
    "    parser.add_argument(\"--dropout\", type=float, default=0.5)\n",
    "    parser.add_argument(\"--ntags\", type=int, default=4)         # 4 or 2\n",
    "    parser.add_argument(\"--weight_decay\", type=float, default=1e-6)\n",
    "    parser.add_argument(\"--pooling\", type=str, default='max',\n",
    "                        help='Pooling type: \"max\", \"mean\", \"sum\", \"att\". ')\n",
    "\n",
    "    # parser.add_argument(\"--config\", type=str, default='config_default',\n",
    "    #                     help='Name for saving plots')\n",
    "    parser.add_argument(\"--model_file\", type=str, default='model_default.t7',\n",
    "                        help='For evaluating a saved model')\n",
    "    parser.add_argument(\"--plot\", type=int, default=0, help='set to plot attn')\n",
    "    parser.add_argument(\"--mode\", type=int, default=0, help='0: train&test, 1:test')\n",
    "    # parser.add_argument(\"--cuda\", type=bool, default=True, help='use gpu to speed up or not')\n",
    "    parser.add_argument(\"--cuda\", type=bool, default=True, help='use gpu to speed up or not')\n",
    "    parser.add_argument(\"--device\", type=int, default=0, help='GPU ID. ')\n",
    "    parser.add_argument(\"--HALF\", type=bool, default=True, help='Use half tensor to save memory')\n",
    "\n",
    "    parser.add_argument(\"--DEBUG\", action='store_true', default=False, help='') #False True\n",
    "    parser.add_argument(\"--node_type\", type=int, default=3,\n",
    "                        help='3 represents three types: Document&Entity&Topic; \\n'\n",
    "                             '2 represents two types: Document&Entiy; \\n'\n",
    "                             '1 represents two types: Document&Topic; \\n'\n",
    "                             '0 represents only one type: Document. ')\n",
    "    parser.add_argument('-r', \"--repeat\", type=int, default=1, help='')\n",
    "    parser.add_argument('-s', \"--seed\", type=list, default=[5], help='')\n",
    "\n",
    "    for dir in [\"models/\", \"ckpt/\", \"plots/\", \"result/\", \"log/\"]:\n",
    "        if not os.path.exists(dir):   os.makedirs(dir)\n",
    "    args = parser.parse_args()\n",
    "\n",
    "    TIMENOW = (datetime.datetime.utcnow() + datetime.timedelta(hours=8)).strftime(\"%m%d_%H%M\")\n",
    "    NODETYPE = {0: \"D\", 1: \"DT\", 2: \"DE\", 3: \"DET\"}[args.node_type]\n",
    "    if args.mode == 0:\n",
    "        MODELNAME = 'CompareNet_{}_{}_{}'.format(args.pooling.capitalize(), NODETYPE, TIMENOW)\n",
    "        args.model_file = 'model_{}.t7'.format(MODELNAME)\n",
    "        args.config = MODELNAME\n",
    "        sys.stdout = Logger(\"./log/{}_{}.log\".format(MODELNAME, TIMENOW))\n",
    "    else:\n",
    "        MODELNAME = args.model_file.split(\".\")[0]\n",
    "        args.config = MODELNAME\n",
    "        sys.stdout = Logger(\"./log/{}_{}.log\".format(MODELNAME, TIMENOW))\n",
    "\n",
    "    os.environ[\"CUDA_VISIBLE_DEVICES\"] = str(args.device)\n",
    "    args.cuda = args.cuda and torch.cuda.is_available()\n",
    "    args.repeat = len(args.seed) if isinstance(args.seed, list) else args.repeat\n",
    "    print(\"TimeStamp: {}\\n\".format(TIMENOW), json.dumps(vars(args), indent=2))\n",
    "    return args\n",
    "\n"
   ]
  },
  {
   "cell_type": "code",
   "execution_count": null,
   "id": "6746eeed",
   "metadata": {},
   "outputs": [],
   "source": [
    "Noticably, we need to change this line: \n",
    "\n",
    "parser.add_argument(\"--ntags\", type=int, default=4)\n",
    "\n",
    "to indicate whether we do 2-way or 4-way classification"
   ]
  },
  {
   "cell_type": "code",
   "execution_count": null,
   "id": "a686679c",
   "metadata": {},
   "outputs": [],
   "source": [
    "we use this line to set up debugging mode:\n",
    "    \n",
    "parser.add_argument(\"--DEBUG\", action='store_true', default=False, \n",
    "                    help='') #False True\n"
   ]
  },
  {
   "cell_type": "markdown",
   "id": "acc50c0c",
   "metadata": {},
   "source": [
    "the author repeats 5 time, but in the interest of time, we set report 1 time"
   ]
  },
  {
   "cell_type": "code",
   "execution_count": null,
   "id": "056cf179",
   "metadata": {},
   "outputs": [],
   "source": [
    "parser.add_argument('-r', \"--repeat\", type=int, default=1, help='')"
   ]
  },
  {
   "cell_type": "markdown",
   "id": "ae6a59bf",
   "metadata": {},
   "source": [
    "start the training and testing part"
   ]
  },
  {
   "cell_type": "code",
   "execution_count": null,
   "id": "4f264cfe",
   "metadata": {},
   "outputs": [],
   "source": [
    "\n",
    "def main(params = None):\n",
    "    if params is None:\n",
    "        params = parse_arguments()\n",
    "    SEED = params.seed\n",
    "    t0 = time.time()\n",
    "    s_t = timer()\n",
    "    dl = DataLoader(params)\n",
    "\n",
    "    u = Utils(params, dl)\n",
    "    timeDelta = int(time.time()-t0)\n",
    "    print(\"PreCost:\", datetime.timedelta(seconds=timeDelta))\n",
    "    for repeat in range(params.repeat):\n",
    "        print(\"\\n\\n\\n{0} Repeat: {1} {0}\".format('-'*27, repeat))\n",
    "        set_seed( SEED[repeat] if isinstance(SEED, list) else SEED )\n",
    "        print(\"\\n\\n\\n{0}  Seed: {1}  {0}\".format('-'*27, SEED[repeat]))\n",
    "        if params.mode == 0:\n",
    "            # Start training\n",
    "            trainer = Trainer(params, u)\n",
    "            trainer.log_time['data_loading'] = timer() - s_t\n",
    "            trainer.train()\n",
    "            print(trainer.log_time)\n",
    "            print(\"Total time taken (in seconds): {}\".format(timer() - s_t))\n",
    "\n",
    "            evaluator = Evaluator(params, u, dl)\n",
    "            evaluator.evaluate()\n",
    "        elif params.mode == 1:\n",
    "            # Evaluate on the test set\n",
    "            evaluator = Evaluator(params, u, dl)\n",
    "            evaluator.evaluate()\n",
    "        else:\n",
    "            raise NotImplementedError(\"Unknown mode: {}\".format(params.mode))\n"
   ]
  },
  {
   "cell_type": "markdown",
   "id": "275afada",
   "metadata": {},
   "source": [
    "set up seed so the results can be reproduced"
   ]
  },
  {
   "cell_type": "code",
   "execution_count": null,
   "id": "982886d8",
   "metadata": {},
   "outputs": [],
   "source": [
    "\n",
    "def set_seed(seed=9699):\n",
    "    random.seed(seed)\n",
    "    np.random.seed(seed)\n",
    "    torch.manual_seed(seed)\n",
    "    torch.cuda.manual_seed(seed)\n"
   ]
  },
  {
   "cell_type": "markdown",
   "id": "8b6dbb7f",
   "metadata": {},
   "source": [
    "main function"
   ]
  },
  {
   "cell_type": "code",
   "execution_count": null,
   "id": "7e705137",
   "metadata": {},
   "outputs": [],
   "source": [
    "\n",
    "if __name__ == '__main__':\n",
    "\n",
    "    params = parse_arguments()\n",
    "    set_seed(0)\n",
    "    main(params)"
   ]
  }
 ],
 "metadata": {
  "kernelspec": {
   "display_name": "Python 3 (ipykernel)",
   "language": "python",
   "name": "python3"
  },
  "language_info": {
   "codemirror_mode": {
    "name": "ipython",
    "version": 3
   },
   "file_extension": ".py",
   "mimetype": "text/x-python",
   "name": "python",
   "nbconvert_exporter": "python",
   "pygments_lexer": "ipython3",
   "version": "3.9.13"
  }
 },
 "nbformat": 4,
 "nbformat_minor": 5
}
