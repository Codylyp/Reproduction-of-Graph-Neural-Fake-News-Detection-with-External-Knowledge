{
 "cells": [
  {
   "cell_type": "markdown",
   "id": "e66257d6",
   "metadata": {},
   "source": [
    "library"
   ]
  },
  {
   "cell_type": "code",
   "execution_count": null,
   "id": "936a1bf1",
   "metadata": {},
   "outputs": [],
   "source": [
    "debugMode = False # False # True\n",
    "num_epochs = 20\n",
    "\n",
    "import pandas as pd\n",
    "import numpy as np\n",
    "import pickle\n",
    "from sklearn.model_selection import train_test_split\n",
    "from sklearn.metrics import precision_recall_fscore_support\n"
   ]
  },
  {
   "cell_type": "markdown",
   "id": "c5fa772e",
   "metadata": {},
   "source": [
    "load dataset, preprocess the 4-way classification to 2-way classification."
   ]
  },
  {
   "cell_type": "code",
   "execution_count": null,
   "id": "545e9b8a",
   "metadata": {},
   "outputs": [],
   "source": [
    "\n",
    "raw_data = pd.read_csv(r\"/localhome/zpa18/keyLab/CompareNet_FakeNewsDetection/data/fakeNews/fulltrain.csv\")    ## Unstemmed\n",
    "raw_data.columns =['label', 'text']\n",
    "df = raw_data\n",
    "idTemp1 = df[(df['label']==1)|(df['label']==4)].index  # |(df.iloc[:, [0]]=='4')\n",
    "raw_data = df.iloc[idTemp1,:]"
   ]
  },
  {
   "cell_type": "markdown",
   "id": "dd75d117",
   "metadata": {},
   "source": [
    "split train and test, and transform data structure"
   ]
  },
  {
   "cell_type": "code",
   "execution_count": null,
   "id": "7603ffa7",
   "metadata": {},
   "outputs": [],
   "source": [
    "xtrain, xtest, ytrain, ytest = train_test_split(raw_data.iloc[:, [1]], raw_data.iloc[:, [0]], test_size=0.2, random_state=42)\n",
    "\n",
    "\n",
    "def transformerFormat(xtrain):\n",
    "    xtrain = xtrain.to_numpy()\n",
    "    xtrain = np.reshape(xtrain, (xtrain.shape[0],))\n",
    "    return xtrain\n",
    "\n",
    "xtrain = transformerFormat(xtrain)\n",
    "xtest = transformerFormat(xtest)\n",
    "ytrain = transformerFormat(ytrain)\n",
    "ytest = transformerFormat(ytest)\n",
    "\n",
    "X_train, X_test, y_train, y_test = xtrain, xtest, ytrain, ytest"
   ]
  },
  {
   "cell_type": "markdown",
   "id": "f6808b73",
   "metadata": {},
   "source": [
    "assign proper labels"
   ]
  },
  {
   "cell_type": "code",
   "execution_count": null,
   "id": "387b27d3",
   "metadata": {},
   "outputs": [],
   "source": [
    "\n",
    "def mapLabel(y_train):\n",
    "    for i in range(len(y_train)):\n",
    "        if y_train[i] == 1:  #1 satire\n",
    "            y_train[i] = 0  #---> 0 satire\n",
    "        if y_train[i] == 4:  #4 trust\n",
    "            y_train[i] = 1  # ---> 1  trust\n",
    "    return y_train\n",
    "\n",
    "\n",
    "y_train = mapLabel(y_train)\n",
    "y_test = mapLabel(y_test)\n"
   ]
  },
  {
   "cell_type": "markdown",
   "id": "04044469",
   "metadata": {},
   "source": [
    "stat of dataset"
   ]
  },
  {
   "cell_type": "code",
   "execution_count": null,
   "id": "c071fdcf",
   "metadata": {},
   "outputs": [],
   "source": [
    "\n",
    "NumTrain = len(X_train)\n",
    "NumTest = len(X_test)\n",
    "print('NumTrain: %d, NumTest: %d' % (NumTrain, NumTest))"
   ]
  },
  {
   "cell_type": "code",
   "execution_count": null,
   "id": "5165e8e7",
   "metadata": {},
   "outputs": [],
   "source": [
    "NumTrain: 19232, NumTest: 4809"
   ]
  },
  {
   "cell_type": "markdown",
   "id": "92774c1f",
   "metadata": {},
   "source": [
    "Data Loading for Torch"
   ]
  },
  {
   "cell_type": "code",
   "execution_count": null,
   "id": "48fa1efc",
   "metadata": {},
   "outputs": [],
   "source": [
    "import torch\n",
    "import torch.nn as nn\n",
    "import torch.optim as optim\n",
    "import torch.nn.functional as F\n",
    "\n",
    "y_train = torch.tensor(y_train).long()\n",
    "y_test = torch.tensor(y_test).long()"
   ]
  },
  {
   "cell_type": "markdown",
   "id": "f527401c",
   "metadata": {},
   "source": [
    "LSTM Model from TextAttack Documents. Including the layers structure, how to encode and decode."
   ]
  },
  {
   "cell_type": "code",
   "execution_count": null,
   "id": "1dc8233b",
   "metadata": {},
   "outputs": [],
   "source": [
    "\"\"\"\n",
    "LSTM 4 Classification\n",
    "---------------------------------------------------------------------\n",
    "\n",
    "\"\"\"\n",
    "import json\n",
    "import os\n",
    "\n",
    "import torch\n",
    "from torch import nn as nn\n",
    "\n",
    "import textattack\n",
    "from textattack.model_args import TEXTATTACK_MODELS\n",
    "from textattack.models.helpers import GloveEmbeddingLayer\n",
    "from textattack.models.helpers.utils import load_cached_state_dict\n",
    "from textattack.shared import utils\n",
    "\n",
    "# ==============Using GPU================\n",
    "if torch.cuda.is_available():\n",
    "    print('CUDA available, CUDA count: %d, Current Device: %d' % (torch.cuda.device_count(), torch.cuda.current_device()))\n",
    "\n",
    "device = torch.device('cuda' if torch.cuda.is_available() else 'cpu')\n",
    "\n",
    "\n",
    "class LSTMForClassification(nn.Module):\n",
    "    \"\"\"A long short-term memory neural network for text classification.\n",
    "\n",
    "    We use different versions of this network to pretrain models for\n",
    "    text classification.\n",
    "    \"\"\"\n",
    "\n",
    "    def __init__(\n",
    "        self,\n",
    "        hidden_size=150,\n",
    "        depth=1,\n",
    "        dropout=0.3,\n",
    "        num_labels=2,               ### 2 or 4 classes\n",
    "        max_seq_length=128,\n",
    "        model_path=None,\n",
    "        emb_layer_trainable=False,  ### True -> False\n",
    "    ):\n",
    "        super().__init__()\n",
    "        self._config = {\n",
    "            \"architectures\": \"LSTMForClassification\",\n",
    "            \"hidden_size\": hidden_size,\n",
    "            \"depth\": depth,\n",
    "            \"dropout\": dropout,\n",
    "            \"num_labels\": num_labels,\n",
    "            \"max_seq_length\": max_seq_length,\n",
    "            \"model_path\": model_path,\n",
    "            \"emb_layer_trainable\": emb_layer_trainable,\n",
    "        }\n",
    "        if depth <= 1:\n",
    "            # Fix error where we ask for non-zero dropout with only 1 layer.\n",
    "            # nn.module.RNN won't add dropout for the last recurrent layer,\n",
    "            # so if that's all we have, this will display a warning.\n",
    "            dropout = 0\n",
    "        self.drop = nn.Dropout(dropout)\n",
    "        self.emb_layer_trainable = emb_layer_trainable\n",
    "        self.emb_layer = GloveEmbeddingLayer(emb_layer_trainable=emb_layer_trainable)\n",
    "        self.word2id = self.emb_layer.word2id\n",
    "        self.encoder = nn.LSTM(\n",
    "            input_size=self.emb_layer.n_d,\n",
    "            hidden_size=hidden_size // 2,\n",
    "            num_layers=depth,\n",
    "            dropout=dropout,\n",
    "            bidirectional=True,\n",
    "        )\n",
    "        d_out = hidden_size\n",
    "        self.out = nn.Linear(d_out, num_labels)\n",
    "        self.tokenizer = textattack.models.tokenizers.GloveTokenizer(\n",
    "            word_id_map=self.word2id,\n",
    "            unk_token_id=self.emb_layer.oovid,\n",
    "            pad_token_id=self.emb_layer.padid,\n",
    "            max_length=max_seq_length,\n",
    "        )\n",
    "\n",
    "        if model_path is not None:\n",
    "            self.load_from_disk(model_path)\n",
    "        # self.train()\n",
    "\n",
    "    def load_from_disk(self, model_path):\n",
    "        self.load_state_dict(load_cached_state_dict(model_path))\n",
    "        self.eval()\n",
    "\n",
    "    def save_pretrained(self, output_path):\n",
    "        if not os.path.exists(output_path):\n",
    "            os.makedirs(output_path)\n",
    "        state_dict = {k: v.cpu() for k, v in self.state_dict().items()}\n",
    "        torch.save(\n",
    "            state_dict,\n",
    "            os.path.join(output_path, \"pytorch_model.bin\"),\n",
    "        )\n",
    "        with open(os.path.join(output_path, \"config.json\"), \"w\") as f:\n",
    "            json.dump(self._config, f)\n",
    "\n",
    "    @classmethod\n",
    "    def from_pretrained(cls, name_or_path):\n",
    "        \"\"\"Load trained LSTM model by name or from path.\n",
    "\n",
    "        Args:\n",
    "            name_or_path (:obj:`str`): Name of the model (e.g. \"lstm-imdb\") or model saved via :meth:`save_pretrained`.\n",
    "        Returns:\n",
    "            :class:`~textattack.models.helpers.LSTMForClassification` model\n",
    "        \"\"\"\n",
    "        # if name_or_path in TEXTATTACK_MODELS:\n",
    "        #     # path = utils.download_if_needed(TEXTATTACK_MODELS[name_or_path])\n",
    "        #     path = utils.download_from_s3(TEXTATTACK_MODELS[name_or_path])\n",
    "        # else:\n",
    "        #     path = name_or_path\n",
    "        path = name_or_path\n",
    "        config_path = os.path.join(path, \"config.json\")\n",
    "\n",
    "        if os.path.exists(config_path):\n",
    "            with open(config_path, \"r\") as f:\n",
    "                config = json.load(f)\n",
    "        else:\n",
    "            # Default config\n",
    "            config = {\n",
    "                \"architectures\": \"LSTMForClassification\",\n",
    "                \"hidden_size\": 150,\n",
    "                \"depth\": 1,\n",
    "                \"dropout\": 0.3,\n",
    "                \"num_labels\": 2,\n",
    "                \"max_seq_length\": 128,\n",
    "                \"model_path\": None,\n",
    "                \"emb_layer_trainable\": True,\n",
    "            }\n",
    "        del config[\"architectures\"]\n",
    "        model = cls(**config)\n",
    "        state_dict = load_cached_state_dict(path)\n",
    "        model.load_state_dict(state_dict)\n",
    "        return model\n",
    "\n",
    "    def forward(self, _input):  ##input may be a single-input tuple (text,) or multi-input tuple (text, text, ...). Can process raw text sequences \n",
    "        # ensure RNN module weights are part of single contiguous chunk of memory\n",
    "        self.encoder.flatten_parameters()\n",
    "\n",
    "        emb = self.emb_layer(_input.t())\n",
    "        emb = self.drop(emb)\n",
    "\n",
    "        output, hidden = self.encoder(emb)\n",
    "        output = torch.max(output, dim=0)[0]\n",
    "\n",
    "        output = self.drop(output)\n",
    "        pred = self.out(output)\n",
    "        return pred\n",
    "\n",
    "    def get_input_embeddings(self):\n",
    "        return self.emb_layer.embedding\n",
    "\n"
   ]
  },
  {
   "cell_type": "markdown",
   "id": "362e8ab7",
   "metadata": {},
   "source": [
    "Training LSTM Model on Our Dataset"
   ]
  },
  {
   "cell_type": "markdown",
   "id": "30e3de3f",
   "metadata": {},
   "source": [
    "load the model structure"
   ]
  },
  {
   "cell_type": "code",
   "execution_count": null,
   "id": "8141d8dd",
   "metadata": {},
   "outputs": [],
   "source": [
    "\n",
    "model = LSTMForClassification().to(device)\n",
    "tokenizer = model.tokenizer\n",
    "model.train()\n",
    "print(model)\n",
    "criterion = nn.CrossEntropyLoss() \n",
    "optimizer = optim.Adam(model.parameters(), lr=1e-3, weight_decay=0.0001)\n"
   ]
  },
  {
   "cell_type": "markdown",
   "id": "0b1c6466",
   "metadata": {},
   "source": [
    "model hierarchy:\n",
    "    \n",
    "LSTMForClassification(\n",
    "  (drop): Dropout(p=0, inplace=False)\n",
    "  (emb_layer): GloveEmbeddingLayer(\n",
    "    (embedding): Embedding(400001, 200)\n",
    "  )\n",
    "  (encoder): LSTM(200, 75, bidirectional=True)\n",
    "  (out): Linear(in_features=150, out_features=2, bias=True)\n",
    ")"
   ]
  },
  {
   "cell_type": "markdown",
   "id": "12eb7915",
   "metadata": {},
   "source": [
    "prepare train and test data"
   ]
  },
  {
   "cell_type": "code",
   "execution_count": null,
   "id": "f3cd0d4d",
   "metadata": {},
   "outputs": [],
   "source": [
    "\n",
    "if debugMode:\n",
    "    num_epochs = 2\n",
    "# X_train = X_train[:100]\n",
    "# y_train = y_train[:100]\n",
    "# X_test = X_test[:50]\n",
    "# y_test = y_test[:50] \n",
    "# NumTrain = 100\n",
    "# NumTest = 50\n",
    "\n",
    "X_train, X_test, y_train, y_test = X_train, X_test, y_train.to(device), y_test.to(device)\n",
    "\n",
    "X_train, X_test = tokenizer.batch_encode(X_train), tokenizer.batch_encode(X_test)\n",
    "X_train = torch.tensor(X_train).long().to(device)\n",
    "X_test = torch.tensor(X_test).long().to(device)"
   ]
  },
  {
   "cell_type": "markdown",
   "id": "43b792f8",
   "metadata": {},
   "source": [
    "data loader module"
   ]
  },
  {
   "cell_type": "code",
   "execution_count": null,
   "id": "03b39457",
   "metadata": {},
   "outputs": [],
   "source": [
    "\n",
    "from torch.utils.data import DataLoader, Dataset\n",
    "class Build_Data(Dataset):    \n",
    "    # Constructor\n",
    "    def __init__(self, x, y):\n",
    "        self.x = x\n",
    "        self.y = y\n",
    "        self.len = self.x.shape[0]        \n",
    "    # Getting the data\n",
    "    def __getitem__(self, index):    \n",
    "        return self.x[index], self.y[index]    \n",
    "    # Getting length of the data\n",
    "    def __len__(self):\n",
    "        return self.len\n",
    "\n",
    "# Creating DataLoader object\n",
    "training_set = Build_Data(X_train, y_train)\n",
    "train_loader = DataLoader(dataset = training_set, batch_size = 128)\n",
    "test_set = Build_Data(X_test, y_test)\n",
    "test_loader = DataLoader(dataset = test_set, batch_size = 128)\n",
    "\n"
   ]
  },
  {
   "cell_type": "markdown",
   "id": "1dc872a2",
   "metadata": {},
   "source": [
    "training process and testing process"
   ]
  },
  {
   "cell_type": "code",
   "execution_count": null,
   "id": "5442de3e",
   "metadata": {},
   "outputs": [],
   "source": [
    "\n",
    "for epoch in range(num_epochs):\n",
    "    loss_epoch = 0\n",
    "    acc_epoch = 0\n",
    "    for x, y in train_loader:\n",
    "        optimizer.zero_grad()\n",
    "        outputs = model(x)\n",
    "        loss = criterion(outputs, y)\n",
    "        loss.backward()\n",
    "        loss_epoch += loss.item()\n",
    "        optimizer.step()\n",
    "\n",
    "        _, prediction = torch.max(F.softmax(outputs, dim=1), 1)\n",
    "        pred_y = prediction.data.cpu().numpy().squeeze()\n",
    "        target_y = y.data.cpu().numpy()\n",
    "        acc_epoch += sum(pred_y == target_y)\n",
    "\n",
    "\n",
    "    print(f\"Epoch {epoch+1} loss: {loss_epoch/NumTrain} \\t Train Acc: {acc_epoch/NumTrain}\")\n",
    "\n",
    "    accuracy = acc_epoch/NumTrain\n",
    "    prec_mac, recall_mac, f1_mac, _ = precision_recall_fscore_support(target_y, pred_y, average='macro')\n",
    "    prec_mic, recall_mic, f1_mic, _ = precision_recall_fscore_support(target_y, pred_y, average='micro')\n",
    "    print(\"Accuracy on the OOD test set 1: {:.4f}\".format(accuracy))\n",
    "    print(\"Precision on the OOD test set 1 macro / micro: {:.4f}, {:.4f}\".format(prec_mac, prec_mic))\n",
    "    print(\"Recall on the OOD test set 1 macro / micro: {:.4f}, {:.4f}\".format(recall_mac, recall_mic))\n",
    "    print(\"F1 on the OOD test set 1 macro / micro: {:.4f}, {:.4f}\".format(f1_mac, f1_mic))\n",
    "    print(\"Latex: {:5.2f} & {:5.2f} & {:5.2f} & {:5.2f}\".format(accuracy * 100, prec_mac * 100, recall_mac * 100,\n",
    "                                                                f1_mac * 100))\n",
    "    print(\"----------------------------------------------------------------------\")\n",
    "\n",
    "\n",
    "    with torch.no_grad():\n",
    "        acc_test_epoch = 0\n",
    "        for x, y in test_loader:\n",
    "            test_out = model(x)\n",
    "            _, prediction = torch.max(F.softmax(test_out, dim=1), 1)\n",
    "            pred_y = prediction.data.cpu().numpy().squeeze()\n",
    "            target_y = y.data.cpu().numpy()\n",
    "            acc_test_epoch +=  sum(pred_y == target_y) \n",
    "        print('--  test accuracy', acc_test_epoch/NumTest)\n",
    "        accuracy = acc_test_epoch/NumTest\n",
    "        prec_mac, recall_mac, f1_mac, _ = precision_recall_fscore_support(target_y, pred_y, average='macro')\n",
    "        prec_mic, recall_mic, f1_mic, _ = precision_recall_fscore_support(target_y, pred_y, average='micro')\n",
    "        print(\"Accuracy on the OOD test set 1: {:.4f}\".format(accuracy))\n",
    "        print(\"Precision on the OOD test set 1 macro / micro: {:.4f}, {:.4f}\".format(prec_mac, prec_mic))\n",
    "        print(\"Recall on the OOD test set 1 macro / micro: {:.4f}, {:.4f}\".format(recall_mac, recall_mic))\n",
    "        print(\"F1 on the OOD test set 1 macro / micro: {:.4f}, {:.4f}\".format(f1_mac, f1_mic))\n",
    "        print(\"Latex: {:5.2f} & {:5.2f} & {:5.2f} & {:5.2f}\".format(accuracy * 100, prec_mac * 100, recall_mac * 100,\n",
    "                                                                    f1_mac * 100))\n",
    "        print(\"----------------------------------------------------------------------\")\n"
   ]
  },
  {
   "cell_type": "code",
   "execution_count": null,
   "id": "c8f765fd",
   "metadata": {},
   "outputs": [],
   "source": [
    "Epoch 1 loss: 0.003916607568421697 \t Train Acc: 0.7466722129783694\n",
    "Accuracy on the OOD test set 1: 0.7467\n",
    "Precision on the OOD test set 1 macro / micro: 0.8140, 0.7812\n",
    "Recall on the OOD test set 1 macro / micro: 0.7579, 0.7812\n",
    "F1 on the OOD test set 1 macro / micro: 0.7625, 0.7812\n",
    "Latex: 74.67 & 81.40 & 75.79 & 76.25\n",
    "----------------------------------------------------------------------\n",
    "--  test accuracy 0.8442503639010189\n",
    "Accuracy on the OOD test set 1: 0.8443\n",
    "Precision on the OOD test set 1 macro / micro: 0.8274, 0.7945\n",
    "Recall on the OOD test set 1 macro / micro: 0.7665, 0.7945\n",
    "F1 on the OOD test set 1 macro / micro: 0.7740, 0.7945\n",
    "Latex: 84.43 & 82.74 & 76.65 & 77.40"
   ]
  }
 ],
 "metadata": {
  "kernelspec": {
   "display_name": "Python 3 (ipykernel)",
   "language": "python",
   "name": "python3"
  },
  "language_info": {
   "codemirror_mode": {
    "name": "ipython",
    "version": 3
   },
   "file_extension": ".py",
   "mimetype": "text/x-python",
   "name": "python",
   "nbconvert_exporter": "python",
   "pygments_lexer": "ipython3",
   "version": "3.9.13"
  }
 },
 "nbformat": 4,
 "nbformat_minor": 5
}
