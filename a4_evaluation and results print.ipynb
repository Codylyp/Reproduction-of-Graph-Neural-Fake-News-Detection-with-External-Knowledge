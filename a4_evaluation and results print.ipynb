{
 "cells": [
  {
   "cell_type": "markdown",
   "id": "616dc386",
   "metadata": {},
   "source": [
    "evaluation and results print"
   ]
  },
  {
   "cell_type": "code",
   "execution_count": null,
   "id": "a0ac145d",
   "metadata": {},
   "outputs": [],
   "source": [
    "\n",
    "def evaluate(self):\n",
    "    print(json.dumps(vars(self.params), indent=2))\n",
    "\n",
    "    model: torch.nn.Module = Classifier(self.params, vocab_size=len(self.data_loader.w2i), pte=None)\n",
    "    if self.utils.HALF:\n",
    "        model.half()\n",
    "    if torch.cuda.is_available():\n",
    "        model = model.cuda()\n",
    "    # Load the model weights\n",
    "    model.load_state_dict(torch.load(\"ckpt/\" + self.params.model_file, map_location=lambda storage, loc: storage))\n",
    "\n",
    "    model.eval()\n",
    "\n",
    "    # This dataset is only available for the binary classifier\n",
    "    if self.params.ntags == 2:\n",
    "        accuracy, all_actual, all_predicted = self._evaluate_aux(model, self.data_loader.test_data_loader)\n",
    "        prec_mac, recall_mac, f1_mac, _ = precision_recall_fscore_support(all_actual, all_predicted, average='macro')\n",
    "        prec_mic, recall_mic, f1_mic, _ = precision_recall_fscore_support(all_actual, all_predicted, average='micro')\n",
    "        print(\"Accuracy on the OOD test set 1: {:.4f}\".format(accuracy))\n",
    "        print(\"Precision on the OOD test set 1 macro / micro: {:.4f}, {:.4f}\".format(prec_mac, prec_mic))\n",
    "        print(\"Recall on the OOD test set 1 macro / micro: {:.4f}, {:.4f}\".format(recall_mac, recall_mic))\n",
    "        print(\"F1 on the OOD test set 1 macro / micro: {:.4f}, {:.4f}\".format(f1_mac, f1_mic))\n",
    "        print(\"Latex: {:5.2f} & {:5.2f} & {:5.2f} & {:5.2f}\".format(accuracy*100, prec_mac*100, recall_mac*100, f1_mac*100))\n",
    "        print(\"----------------------------------------------------------------------\")\n",
    "\n",
    "    accuracy, all_actual, all_predicted = self._evaluate_aux(model, self.data_loader.test_data_loader_2)\n",
    "    prec_mac, recall_mac, f1_mac, _ = precision_recall_fscore_support(all_actual, all_predicted, average='macro')\n",
    "    prec_mic, recall_mic, f1_mic, _ = precision_recall_fscore_support(all_actual, all_predicted, average='micro')\n",
    "    print(\"Accuracy on the OOD test set 2: {:.4f}\".format(accuracy))\n",
    "    print(\"Precision on the OOD test set 2 macro / micro: {:.4f}, {:.4f}\".format(prec_mac, prec_mic))\n",
    "    print(\"Recall on the OOD test set 2 macro / micro: {:.4f}, {:.4f}\".format(recall_mac, recall_mic))\n",
    "    print(\"F1 on the OOD test set 2 macro / micro: {:.4f}, {:.4f}\".format(f1_mac, f1_mic))\n",
    "    print(\"Latex: {:5.2f} & {:5.2f} & {:5.2f} & {:5.2f}\".format(accuracy * 100, prec_mac * 100, recall_mac * 100, f1_mac * 100))\n",
    "\n",
    "    if self.params.ntags == 4:\n",
    "        results = confusion_matrix(all_actual, all_predicted)\n",
    "        df_cm = pd.DataFrame(results, index=[i for i in [\"Satire\", \"Hoax\", \"Propaganda\", \"Trusted\"]],\n",
    "                             columns=[i for i in [\"Satire\", \"Hoax\", \"Propaganda\", \"Trusted\"]])\n",
    "        sns_plot = sn.heatmap(df_cm, annot=True, fmt='g')\n",
    "        plt.yticks(rotation=45)\n",
    "        sns_plot.get_figure().savefig('plots/cm.png')\n",
    "\n",
    "    print(\"----------------------------------------------------------------------\")\n",
    "    accuracy, all_actual, all_predicted = self._evaluate_aux(model, self.data_loader.dev_data_loader)\n",
    "    prec_mac, recall_mac, f1_mac, _ = precision_recall_fscore_support(all_actual, all_predicted, average='macro')\n",
    "    prec_mic, recall_mic, f1_mic, _ = precision_recall_fscore_support(all_actual, all_predicted, average='micro')\n",
    "    print(\"Accuracy on the dev set: {:.4f}\".format(accuracy))\n",
    "    print(\"Precision on the dev set macro / micro: {:.4f}, {:.4f}\".format(prec_mac, prec_mic))\n",
    "    print(\"Recall on the dev macro / micro: {:.4f}, {:.4f}\".format(recall_mac, recall_mic))\n",
    "    print(\"F1 on the dev macro / micro: {:.4f}, {:.4f}\".format(f1_mac, f1_mic))\n",
    "    print(\"Latex: {:5.2f} & {:5.2f} & {:5.2f} & {:5.2f}\".format(accuracy * 100, prec_mac * 100, recall_mac * 100, f1_mac * 100))\n"
   ]
  },
  {
   "cell_type": "markdown",
   "id": "bd9e6220",
   "metadata": {},
   "source": [
    "for 4-way classification, results:"
   ]
  },
  {
   "cell_type": "markdown",
   "id": "f39bb22c",
   "metadata": {},
   "source": [
    "Total time taken (in seconds): 5124.499713159166 (1.4 hours)"
   ]
  },
  {
   "cell_type": "markdown",
   "id": "51afca0d",
   "metadata": {},
   "source": [
    "model configuration"
   ]
  },
  {
   "cell_type": "code",
   "execution_count": null,
   "id": "98e16e43",
   "metadata": {},
   "outputs": [],
   "source": [
    "{\n",
    "  \"root\": \"./data/fakeNews/\",\n",
    "  \"train\": \"./data/fakeNews/fulltrain.csv\",\n",
    "  \"dev\": \"./data/fakeNews/balancedtest.csv\",\n",
    "  \"test\": \"./data/fakeNews/test.xlsx\",\n",
    "  \"pte\": \"\",\n",
    "  \"entity_desc\": \"./data/fakeNews/entityDescCorpus.pkl\",\n",
    "  \"entity_tran\": \"./data/fakeNews/entity_feature_transE.pkl\",\n",
    "  \"adjs\": \"./data/fakeNews/adjs/\",\n",
    "  \"emb_dim\": 100,\n",
    "  \"hidden_dim\": 100,\n",
    "  \"node_emb_dim\": 32,\n",
    "  \"max_epochs\": 15,\n",
    "  \"max_sent_len\": 50,\n",
    "  \"max_sents_in_a_doc\": 10000,\n",
    "  \"batch_size\": 32,\n",
    "  \"lr\": 0.001,\n",
    "  \"dropout\": 0.5,\n",
    "  \"ntags\": 4,\n",
    "  \"weight_decay\": 1e-06,\n",
    "  \"pooling\": \"max\",\n",
    "  \"model_file\": \"model_CompareNet_Max_DET_0322_1528.t7\",\n",
    "  \"plot\": 0,\n",
    "  \"mode\": 0,\n",
    "  \"cuda\": true,\n",
    "  \"device\": 0,\n",
    "  \"HALF\": true,\n",
    "  \"DEBUG\": false,\n",
    "  \"node_type\": 3,\n",
    "  \"repeat\": 1,\n",
    "  \"seed\": [\n",
    "    5\n",
    "  ],\n",
    "  \"config\": \"CompareNet_Max_DET_0322_1528\"\n",
    "}"
   ]
  },
  {
   "cell_type": "markdown",
   "id": "33f436ac",
   "metadata": {},
   "source": [
    "results print:"
   ]
  },
  {
   "cell_type": "markdown",
   "id": "3a33239c",
   "metadata": {},
   "source": [
    "OOD test set 2 means LUN-test dataset, corresponding to \"params.dev\" in parameter setting, corresponding to balancedtext.csv file\n",
    "the dev means 20% sampling from the LUN-training dataset, corresponding to \"fulltrain.csv\" file."
   ]
  },
  {
   "cell_type": "code",
   "execution_count": null,
   "id": "c764ff54",
   "metadata": {},
   "outputs": [],
   "source": [
    "Accuracy on the OOD test set 2: 0.6130\n",
    "Precision on the OOD test set 2 macro / micro: 0.6496, 0.6130\n",
    "Recall on the OOD test set 2 macro / micro: 0.6130, 0.6130\n",
    "F1 on the OOD test set 2 macro / micro: 0.6007, 0.6130\n",
    "Latex: 61.30 & 64.96 & 61.30 & 60.07\n",
    "----------------------------------------------------------------------\n",
    "Accuracy on the dev set: 0.9566\n",
    "Precision on the dev set macro / micro: 0.9558, 0.9566\n",
    "Recall on the dev macro / micro: 0.9564, 0.9566\n",
    "F1 on the dev macro / micro: 0.9560, 0.9566\n",
    "Latex: 95.66 & 95.58 & 95.64 & 95.60"
   ]
  },
  {
   "cell_type": "markdown",
   "id": "cb75337d",
   "metadata": {},
   "source": [
    "for 2-way classification, results:"
   ]
  },
  {
   "cell_type": "markdown",
   "id": "04cd1bed",
   "metadata": {},
   "source": [
    "Total time taken (in seconds): 6714.280589981936 (1.9 hours)"
   ]
  },
  {
   "cell_type": "markdown",
   "id": "bfd0faf0",
   "metadata": {},
   "source": [
    "model configuration"
   ]
  },
  {
   "cell_type": "code",
   "execution_count": null,
   "id": "95875649",
   "metadata": {},
   "outputs": [],
   "source": [
    "{\n",
    "  \"root\": \"./data/fakeNews/\",\n",
    "  \"train\": \"./data/fakeNews/fulltrain.csv\",\n",
    "  \"dev\": \"./data/fakeNews/balancedtest.csv\",\n",
    "  \"test\": \"./data/fakeNews/test.xlsx\",\n",
    "  \"pte\": \"\",\n",
    "  \"entity_desc\": \"./data/fakeNews/entityDescCorpus.pkl\",\n",
    "  \"entity_tran\": \"./data/fakeNews/entity_feature_transE.pkl\",\n",
    "  \"adjs\": \"./data/fakeNews/adjs/\",\n",
    "  \"emb_dim\": 100,\n",
    "  \"hidden_dim\": 100,\n",
    "  \"node_emb_dim\": 32,\n",
    "  \"max_epochs\": 15,\n",
    "  \"max_sent_len\": 50,\n",
    "  \"max_sents_in_a_doc\": 10000,\n",
    "  \"batch_size\": 32,\n",
    "  \"lr\": 0.001,\n",
    "  \"dropout\": 0.5,\n",
    "  \"ntags\": 2,\n",
    "  \"weight_decay\": 1e-06,\n",
    "  \"pooling\": \"max\",\n",
    "  \"model_file\": \"model_CompareNet_Max_DET_0302_0354.t7\",\n",
    "  \"plot\": 0,\n",
    "  \"mode\": 0,\n",
    "  \"cuda\": true,\n",
    "  \"device\": 0,\n",
    "  \"HALF\": true,\n",
    "  \"DEBUG\": false,\n",
    "  \"node_type\": 3,\n",
    "  \"repeat\": 1,\n",
    "  \"seed\": [\n",
    "    5\n",
    "  ],\n",
    "  \"config\": \"CompareNet_Max_DET_0302_0354\"\n",
    "}"
   ]
  },
  {
   "cell_type": "markdown",
   "id": "f2e7b3be",
   "metadata": {},
   "source": [
    "results print:"
   ]
  },
  {
   "cell_type": "markdown",
   "id": "0d5281a1",
   "metadata": {},
   "source": [
    "OOD test set 1 means SLN testing dataset, corresponding to \"params.test\" in parameter setting, corresponding to text.xlsx file"
   ]
  },
  {
   "cell_type": "code",
   "execution_count": null,
   "id": "7ae4c534",
   "metadata": {},
   "outputs": [],
   "source": [
    "Accuracy on the OOD test set 1: 0.8667\n",
    "Precision on the OOD test set 1 macro / micro: 0.8668, 0.8667\n",
    "Recall on the OOD test set 1 macro / micro: 0.8667, 0.8667\n",
    "F1 on the OOD test set 1 macro / micro: 0.8667, 0.8667\n",
    "Latex: 86.67 & 86.68 & 86.67 & 86.67\n",
    "----------------------------------------------------------------------\n",
    "Accuracy on the OOD test set 2: 0.9185\n",
    "Precision on the OOD test set 2 macro / micro: 0.9185, 0.9185\n",
    "Recall on the OOD test set 2 macro / micro: 0.9186, 0.9185\n",
    "F1 on the OOD test set 2 macro / micro: 0.9185, 0.9185\n",
    "Latex: 91.85 & 91.85 & 91.86 & 91.85\n",
    "----------------------------------------------------------------------\n",
    "Accuracy on the dev set: 0.9668\n",
    "Precision on the dev set macro / micro: 0.9684, 0.9668\n",
    "Recall on the dev macro / micro: 0.9630, 0.9668\n",
    "F1 on the dev macro / micro: 0.9655, 0.9668\n",
    "Latex: 96.68 & 96.84 & 96.30 & 96.55"
   ]
  }
 ],
 "metadata": {
  "kernelspec": {
   "display_name": "Python 3 (ipykernel)",
   "language": "python",
   "name": "python3"
  },
  "language_info": {
   "codemirror_mode": {
    "name": "ipython",
    "version": 3
   },
   "file_extension": ".py",
   "mimetype": "text/x-python",
   "name": "python",
   "nbconvert_exporter": "python",
   "pygments_lexer": "ipython3",
   "version": "3.9.13"
  }
 },
 "nbformat": 4,
 "nbformat_minor": 5
}
