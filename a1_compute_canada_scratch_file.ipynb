{
 "cells": [
  {
   "cell_type": "markdown",
   "id": "97c3f0a7",
   "metadata": {},
   "source": [
    "we use 1 gpu, 6 cpu, memory 32000M, allocate 10 hours service time. After the job is done, send email to notify me."
   ]
  },
  {
   "cell_type": "code",
   "execution_count": null,
   "id": "3e5479e2",
   "metadata": {},
   "outputs": [],
   "source": [
    "#!/bin/bash\n",
    "#SBATCH --gres=gpu:1       # Request GPU \"generic resources\"\n",
    "#SBATCH --cpus-per-task=6  # Cores proportional to GPUs: 6 on Cedar, 16 on Graham.\n",
    "#SBATCH --mem=32000M       # Memory proportional to GPUs: 32000 Cedar, 64000 Graham.\n",
    "#SBATCH --time=0-10:00:00\n",
    "#SBATCH --output=%N-%j.out\n",
    "#SBATCH --mail-user=zhiyun_peng@sfu.ca\n",
    "#SBATCH --mail-type=ALL\n",
    "\n",
    "python main.py"
   ]
  }
 ],
 "metadata": {
  "kernelspec": {
   "display_name": "Python 3 (ipykernel)",
   "language": "python",
   "name": "python3"
  },
  "language_info": {
   "codemirror_mode": {
    "name": "ipython",
    "version": 3
   },
   "file_extension": ".py",
   "mimetype": "text/x-python",
   "name": "python",
   "nbconvert_exporter": "python",
   "pygments_lexer": "ipython3",
   "version": "3.9.13"
  }
 },
 "nbformat": 4,
 "nbformat_minor": 5
}
